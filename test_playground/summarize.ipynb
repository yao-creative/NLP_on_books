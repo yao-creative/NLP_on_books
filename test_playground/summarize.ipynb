{
 "cells": [
  {
   "cell_type": "code",
   "execution_count": 7,
   "metadata": {},
   "outputs": [],
   "source": [
    "from gensim.summarization.summarizer import summarize\n",
    "from gensim.summarization import keywords"
   ]
  },
  {
   "cell_type": "code",
   "execution_count": 24,
   "metadata": {},
   "outputs": [
    {
     "data": {
      "text/plain": [
       "['__builtins__',\n",
       " '__cached__',\n",
       " '__doc__',\n",
       " '__file__',\n",
       " '__loader__',\n",
       " '__name__',\n",
       " '__package__',\n",
       " '__path__',\n",
       " '__spec__',\n",
       " '__version__',\n",
       " '_matutils',\n",
       " 'corpora',\n",
       " 'interfaces',\n",
       " 'logger',\n",
       " 'logging',\n",
       " 'matutils',\n",
       " 'models',\n",
       " 'parsing',\n",
       " 'similarities',\n",
       " 'summarization',\n",
       " 'topic_coherence',\n",
       " 'utils']"
      ]
     },
     "execution_count": 24,
     "metadata": {},
     "output_type": "execute_result"
    }
   ],
   "source": [
    "dir(gensim)"
   ]
  },
  {
   "cell_type": "code",
   "execution_count": 31,
   "metadata": {},
   "outputs": [],
   "source": [
    "with open(\"../books_txt/A_Journey_into_the_Interior_of_the_Earth_by_Jules_Verne.txt\", \"r\") as infile:\n",
    "    content = infile.read()\n",
    "#print(content)"
   ]
  },
  {
   "cell_type": "code",
   "execution_count": 34,
   "metadata": {},
   "outputs": [],
   "source": [
    "center_of_earth = summarize(content, ratio = 0.001)"
   ]
  },
  {
   "cell_type": "code",
   "execution_count": 35,
   "metadata": {},
   "outputs": [
    {
     "name": "stdout",
     "output_type": "stream",
     "text": [
      "Nevertheless my good uncle was a man of deep learning--a fact I am\n",
      "\"Now,\" said my uncle, looking straight at me, \"to read the sentence\n",
      "\"Come now,\" I thought, \"these words seem to justify my uncle's view\n",
      "For three long hours my uncle worked on without a word, without\n",
      "\"_Kyrkoherde,_\" said Hans, turning round to my uncle.\n",
      "\"Now,\" said my uncle, \"let us breakfast; but we must lay in a good\n",
      "At this moment Hans came, he saw my hand in my uncle's, and I may\n",
      "\"Yes,\" my uncle replied, \"the Liedenbrock Sea; and I don't suppose\n",
      "\"Hans, to work!\" cried my uncle.\n"
     ]
    }
   ],
   "source": [
    "print(center_of_earth)"
   ]
  },
  {
   "cell_type": "code",
   "execution_count": null,
   "metadata": {},
   "outputs": [],
   "source": []
  }
 ],
 "metadata": {
  "interpreter": {
   "hash": "aee8b7b246df8f9039afb4144a1f6fd8d2ca17a180786b69acc140d282b71a49"
  },
  "kernelspec": {
   "display_name": "Python 3.9.5 64-bit",
   "language": "python",
   "name": "python3"
  },
  "language_info": {
   "codemirror_mode": {
    "name": "ipython",
    "version": 3
   },
   "file_extension": ".py",
   "mimetype": "text/x-python",
   "name": "python",
   "nbconvert_exporter": "python",
   "pygments_lexer": "ipython3",
   "version": "3.9.5"
  },
  "orig_nbformat": 4
 },
 "nbformat": 4,
 "nbformat_minor": 2
}
